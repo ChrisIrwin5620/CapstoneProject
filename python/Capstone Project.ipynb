{
 "cells": [
  {
   "cell_type": "code",
   "execution_count": 27,
   "metadata": {},
   "outputs": [
    {
     "name": "stdout",
     "output_type": "stream",
     "text": [
      "DataFrames Created\n"
     ]
    }
   ],
   "source": [
    "import nflgame\n",
    "import numpy as np\n",
    "import pandas as pd\n",
    "import os\n",
    "import datetime\n",
    "import requests\n",
    "import json\n",
    "\n",
    "directory = '//users/cmirwin/desktop/Capstone/'\n",
    "\n",
    "if not os.path.exists(directory):\n",
    "    os.makedirs(directory)\n",
    "\n",
    "    \n",
    "#Import Team Info\n",
    "dfTeamInfo = pd.read_csv(directory + 'TeamInfo.csv', sep=',')\n",
    "\n",
    "#import Weather Info\n",
    "dfWeatherInfo = pd.read_csv(directory + 'APIDataFinal.csv', sep=',') \n",
    "\n",
    "weeks = range(1, 17)\n",
    "\n",
    "years = range(2009, 2017)\n",
    "\n",
    "gamesPlayed = pd.DataFrame(columns=('GameID','Year', 'Week', 'HomeTeam', 'AwayTeam'))\n",
    "\n",
    "GameId = 0\n",
    "\n",
    "#Get all Games and Opponents to pull data for each game. \n",
    "for year in years:\n",
    "    for week in weeks:\n",
    "        games = nflgame.games(year, week = week)\n",
    "        for game in games:\n",
    "            gamesPlayed.loc[GameId]= (GameId + 1, year, week, game.home, game.away)\n",
    "            GameId = GameId + 1\n",
    "            \n",
    "dfAllGames = gamesPlayed\n",
    "\n",
    "dfNFLDataForGames = pd.DataFrame(columns = ('GameID', 'HomeTeam', 'AwayTeam', 'GameWinner', 'GameLoser', 'ScoreHome', 'ScoreAway', 'HomeFirstDowns'\n",
    "    , 'HomePassingYards', 'HomePenaltyCnt', 'HomePenaltyYards', 'HomePossTime', 'HomePuntAvg', 'HomepuntCnt', 'HomePuntYards'\n",
    "    , 'HomeRushingYards', 'HomeTotalYards', 'HomeTurnOvers', 'AwayFirstDowns', 'AwayPassingYards', 'AwayPenaltyCnt'\n",
    "    , 'AwayPenaltyYards', 'AwayPossTime', 'AwayPuntAvg', 'AwaypuntCnt', 'AwayPuntYards', 'AwayRushingYards', 'AwayTotalYards'\n",
    "    , 'AwayTurnOvers'))\n",
    "\n",
    "dfScores = pd.DataFrame(columns=('GameID', 'Team', 'Quarter', 'ScoreType'))\n",
    "\n",
    "dfPassingData = pd.DataFrame(columns=('GameID', 'Team', 'PassingComp', 'PassingAtt', 'PassingYards', 'PassingTD'))\n",
    "\n",
    "dfRushingData = pd.DataFrame(columns=('GameID', 'Team', 'RushingAtt', 'RushingYards', 'RushingTD'))\n",
    "\n",
    "print('DataFrames Created')"
   ]
  },
  {
   "cell_type": "code",
   "execution_count": 28,
   "metadata": {},
   "outputs": [
    {
     "name": "stdout",
     "output_type": "stream",
     "text": [
      "('Error GameId:', 1685)\n",
      "Game Data Collected\n"
     ]
    }
   ],
   "source": [
    "for x in range(0,len(dfAllGames)):\n",
    "    gameId = dfAllGames.loc[x]['GameID']\n",
    "    Year = dfAllGames.loc[x]['Year']\n",
    "    Week = dfAllGames.loc[x]['Week']\n",
    "    HomeTeam = dfAllGames.loc[x]['HomeTeam']\n",
    "    AwayTeam = dfAllGames.loc[x]['AwayTeam']\n",
    "\n",
    "    game = nflgame.one(Year, Week, HomeTeam, AwayTeam)\n",
    "\n",
    "    try:\n",
    "        homeStats = game.stats_home\n",
    "        awayStats = game.stats_away\n",
    "\n",
    "        dfNFLDataForGames.loc[x]= (gameId, HomeTeam, AwayTeam, game.winner, game.loser,  game.score_home, game.score_away\n",
    "        , homeStats.first_downs, homeStats.passing_yds, homeStats.penalty_cnt, homeStats.penalty_yds\n",
    "        , homeStats.pos_time, homeStats.punt_avg, homeStats.punt_cnt, homeStats.punt_yds\n",
    "        , homeStats.rushing_yds, homeStats.total_yds, homeStats.turnovers, awayStats.first_downs\n",
    "        , awayStats.passing_yds, awayStats.penalty_cnt, awayStats.penalty_yds, awayStats.pos_time\n",
    "        , awayStats.punt_avg, awayStats.punt_cnt, awayStats.punt_yds, awayStats.rushing_yds\n",
    "        , awayStats.total_yds, awayStats.turnovers)\n",
    "\n",
    "    except:\n",
    "        print(\"Error GameId:\" , gameId)\n",
    "\n",
    "print('Game Data Collected')"
   ]
  },
  {
   "cell_type": "code",
   "execution_count": 33,
   "metadata": {},
   "outputs": [
    {
     "name": "stdout",
     "output_type": "stream",
     "text": [
      "Missing Drive Data\n",
      "Scoring Drives Captured\n",
      "Scoring Added\n"
     ]
    }
   ],
   "source": [
    "for x in range(0,len(dfAllGames)):\n",
    "    gameId = dfAllGames.loc[x]['GameID']\n",
    "    Year = dfAllGames.loc[x]['Year']\n",
    "    Week = dfAllGames.loc[x]['Week']\n",
    "    HomeTeam = dfAllGames.loc[x]['HomeTeam']\n",
    "    AwayTeam = dfAllGames.loc[x]['AwayTeam']\n",
    "\n",
    "    game = nflgame.one(Year, Week, HomeTeam, AwayTeam)\n",
    "\n",
    "    #find Scores foreach file\n",
    "    try:\n",
    "        scores = game.scores\n",
    "\n",
    "        for score in scores:\n",
    "            scoreSplit = score.split(' - ')\n",
    "\n",
    "            dfScores.loc[(dfScores.GameID.count() + 1)] =(gameId,scoreSplit[0], scoreSplit[1], scoreSplit[2])\n",
    "\n",
    "    except:\n",
    "        print(\"Missing Drive Data\")\n",
    "\n",
    "print('Scoring Drives Captured')\n",
    "\n",
    "dfScoreTotals = pd.DataFrame(dfScores.groupby(['GameID', 'Team', 'ScoreType'])['ScoreType'].count())\n",
    "\n",
    "#Create Field Goals\n",
    "dfFieldGoalTotal = dfScores[dfScores['ScoreType'] == 'FG']\n",
    "\n",
    "#Create touchdowns\n",
    "dfTouchdownTotal = dfScores[dfScores['ScoreType'] == 'TD']\n",
    "\n",
    "maxGameID = max(dfTouchdownTotal['GameID']) + 1\n",
    "\n",
    "#Create new column\n",
    "dfNFLDataForGames['HomeFieldGoals'] = 0\n",
    "\n",
    "\n",
    "dfNFLDataForGames['AwayFieldGoals'] = 0\n",
    "\n",
    "\n",
    "for value in range(1, maxGameID):\n",
    "    dfTeams = dfFieldGoalTotal[dfFieldGoalTotal['GameID'] == value]\n",
    "    dfFieldGoals = dfTeams.groupby(['GameID', 'Team'])['ScoreType'].count().reset_index()\n",
    "    run = 0\n",
    "    for field in dfFieldGoals.values:\n",
    "        if run == 0:\n",
    "            dfNFLDataForGames.loc[value - 1, 'HomeFieldGoals'] = field[2]\n",
    "            run = run + 1\n",
    "        else:\n",
    "            dfNFLDataForGames.loc[value -1 , 'AwayFieldGoals'] = field[2]\n",
    "\n",
    "            \n",
    "#Create Touchdowns\n",
    "dfNFLDataForGames['HomeTouchDowns'] = 0\n",
    "\n",
    "dfNFLDataForGames['AwayTouchDowns'] = 0\n",
    "            \n",
    "for value in range(1, maxGameID):\n",
    "    dfTeamsTD = dfTouchdownTotal[dfTouchdownTotal['GameID'] == value]\n",
    "    dfTD = dfTeamsTD.groupby(['GameID', 'Team'])['ScoreType'].count().reset_index()\n",
    "    run = 0\n",
    "    for field in dfTD.values:\n",
    "        if run == 0:\n",
    "            dfNFLDataForGames.loc[value - 1, 'HomeTouchDowns'] = field[2]\n",
    "            run = run + 1\n",
    "        else:\n",
    "            dfNFLDataForGames.loc[value -1 , 'AwayTouchDowns'] = field[2]\n",
    "            \n",
    "            \n",
    "print 'Scoring Added'                     "
   ]
  },
  {
   "cell_type": "code",
   "execution_count": 34,
   "metadata": {},
   "outputs": [
    {
     "name": "stdout",
     "output_type": "stream",
     "text": [
      "Columns Added\n"
     ]
    }
   ],
   "source": [
    "#Add passing Columns\n",
    "\n",
    "columnNames = pd.DataFrame(['PassingComp','PassingAtt','PassingTD','RushingAtt','RushingTD'])\n",
    "\n",
    "teams = pd.DataFrame(['Home', 'Away'])\n",
    "\n",
    "for column in columnNames.values:\n",
    "    insertColumn = column[-1]\n",
    "    for team in teams.values:\n",
    "        columnName = team + column\n",
    "        dfNFLDataForGames[columnName[-1]] = 0\n",
    "\n",
    "print('Columns Added')"
   ]
  },
  {
   "cell_type": "code",
   "execution_count": 35,
   "metadata": {},
   "outputs": [
    {
     "name": "stdout",
     "output_type": "stream",
     "text": [
      "('Error GameId:', 1685)\n",
      "Passing and Rushing Totals Created\n"
     ]
    }
   ],
   "source": [
    "for x in range(0,len(dfAllGames)):\n",
    "    gameId = dfAllGames.loc[x]['GameID']\n",
    "    Year = dfAllGames.loc[x]['Year']\n",
    "    Week = dfAllGames.loc[x]['Week']\n",
    "    HomeTeam = dfAllGames.loc[x]['HomeTeam']\n",
    "    AwayTeam = dfAllGames.loc[x]['AwayTeam']\n",
    "\n",
    "    game = nflgame.one(Year, Week, HomeTeam, AwayTeam)\n",
    "\n",
    "    try:\n",
    "        for rush in game.players.rushing().filter(home=True):\n",
    "            #print(dfRushingDataHome.GameID.count())\n",
    "            dfRushingData.loc[(dfRushingData.GameID.count() + 1)] =(gameId, HomeTeam, rush.rushing_att, rush.rushing_yds, rush.rushing_tds)\n",
    "\n",
    "        for rush in game.players.rushing().filter(home=False):\n",
    "            #print(dfRushingDataHome.GameID.count())\n",
    "            dfRushingData.loc[(dfRushingData.GameID.count() + 1)] =(gameId, AwayTeam, rush.rushing_att, rush.rushing_yds, rush.rushing_tds)\n",
    "\n",
    "        #Get Passing Details\n",
    "        for passer in game.players.passing().filter(home=True):\n",
    "\n",
    "            dfPassingData.loc[(dfPassingData.GameID.count() + 1)] = (gameId, HomeTeam, passer.passing_cmp, passer.passing_att, passer.passing_yds, passer.passing_tds)\n",
    "\n",
    "        for passer in game.players.passing().filter(home=False) :\n",
    "  \n",
    "            dfPassingData.loc[(dfPassingData.GameID.count() + 1)] = (gameId, AwayTeam, passer.passing_cmp, passer.passing_att, passer.passing_yds, passer.passing_tds)\n",
    "\n",
    "    except:\n",
    "        print(\"Error GameId:\" , gameId)\n",
    "\n",
    "print('Passing and Rushing Totals Created')"
   ]
  },
  {
   "cell_type": "markdown",
   "metadata": {},
   "source": [
    "# Add Passing Data"
   ]
  },
  {
   "cell_type": "code",
   "execution_count": 36,
   "metadata": {
    "scrolled": false
   },
   "outputs": [
    {
     "name": "stdout",
     "output_type": "stream",
     "text": [
      "Completed\n"
     ]
    }
   ],
   "source": [
    "dfPassingColumns = pd.DataFrame(['PassingComp', 'PassingAtt', 'PassingTD'])\n",
    "\n",
    "for value in range(1, maxGameID):\n",
    "    for column in dfPassingColumns.values:\n",
    "        insertColumn = column[-1]\n",
    "        dfPasses = dfPassingData[dfPassingData['GameID'] == value]\n",
    "        dfPassingStats = dfPasses.groupby(['GameID', 'Team'])[column].sum().reset_index()\n",
    "        run = 0\n",
    "        for play in dfPassingStats.values:\n",
    "            if run == 0:\n",
    "                dfNFLDataForGames.loc[value - 1, 'Home' + insertColumn] = play[2]\n",
    "                run = run + 1\n",
    "            else:\n",
    "                dfNFLDataForGames.loc[value -1 , 'Away' + insertColumn] = play[2]\n",
    "                \n",
    "print('Completed')"
   ]
  },
  {
   "cell_type": "markdown",
   "metadata": {},
   "source": [
    "# Add Rushing Data"
   ]
  },
  {
   "cell_type": "code",
   "execution_count": 37,
   "metadata": {
    "scrolled": true
   },
   "outputs": [
    {
     "name": "stdout",
     "output_type": "stream",
     "text": [
      "Completed\n"
     ]
    }
   ],
   "source": [
    "dfRushingColumns = pd.DataFrame(['RushingAtt', 'RushingTD'])\n",
    "\n",
    "for value in range(1, maxGameID):\n",
    "    for column in dfRushingColumns.values:\n",
    "        insertColumn = column[-1]\n",
    "        dfRushes = dfRushingData[dfRushingData['GameID'] == value]\n",
    "        dfRushingStats = dfRushes.groupby(['GameID', 'Team'])[column].sum().reset_index()\n",
    "        run = 0\n",
    "        for rush in dfRushingStats.values:\n",
    "            if run == 0:\n",
    "                dfNFLDataForGames.loc[value - 1, 'Home' + insertColumn] = rush[2]\n",
    "                run = run + 1\n",
    "            else:\n",
    "                dfNFLDataForGames.loc[value -1 , 'Away' + insertColumn] = rush[2]\n",
    "                \n",
    "print('Completed')"
   ]
  },
  {
   "cell_type": "markdown",
   "metadata": {},
   "source": [
    "# Add Field Goal Data"
   ]
  },
  {
   "cell_type": "code",
   "execution_count": 38,
   "metadata": {
    "collapsed": true
   },
   "outputs": [],
   "source": [
    "for value in range(1, maxGameID):\n",
    "    dfTeams = dfFieldGoalTotal[dfFieldGoalTotal['GameID'] == value]\n",
    "    dfFieldGoals = dfTeams.groupby(['GameID', 'Team'])['ScoreType'].count().reset_index()\n",
    "    run = 0\n",
    "    for field in dfFieldGoals.values:\n",
    "        if run == 0:\n",
    "            dfNFLDataForGames.loc[value - 1, 'HomeFieldGoals'] = field[2]\n",
    "            run = run + 1\n",
    "        else:\n",
    "            dfNFLDataForGames.loc[value -1 , 'AwayFieldGoals'] = field[2]\n"
   ]
  },
  {
   "cell_type": "markdown",
   "metadata": {},
   "source": [
    "## Get Time Info \n",
    "\n",
    "Created this section so we can parse out different sections of game time data. We want to take a look at if time has any effect on the games outcome. Additionally, we used this data to help with getting game time weather conditions. "
   ]
  },
  {
   "cell_type": "code",
   "execution_count": 39,
   "metadata": {},
   "outputs": [
    {
     "name": "stdout",
     "output_type": "stream",
     "text": [
      "Complete\n"
     ]
    }
   ],
   "source": [
    "location = 0\n",
    "dfGameTimes = pd.DataFrame(columns=('GameID', 'Year', 'Week', 'Date', 'Day', 'TimeOfDay', 'NumericDate'))\n",
    "for year in years:\n",
    "    for week in weeks:\n",
    "        future_games = nflgame.live._games_in_week(year, week)\n",
    "        for fgame in future_games:\n",
    "            dateOfGame =  '{}/{}/{}'.format(fgame['month'], fgame['day'], year)\n",
    "            \n",
    "            if(len(str(fgame['day'])) == 1):\n",
    "                \n",
    "                day = '0'+ str(fgame['day'])\n",
    "            else:\n",
    "                day = str(fgame['day'])\n",
    "                \n",
    "            if(len(str(fgame['month'])) == 1):\n",
    "                \n",
    "                month = '0'+ str(fgame['month'])\n",
    "            \n",
    "            else:\n",
    "                month = str(fgame['month'])\n",
    "            \n",
    "            \n",
    "            dfGameTimes.loc[location] = ((location + 1)\n",
    "                                  , year\n",
    "                                  , week\n",
    "                                  , dateOfGame\n",
    "                                  , datetime.datetime(year, fgame['month'], fgame['day']).weekday()\n",
    "                                  , fgame['time']\n",
    "                                  , '{}{}{}'.format(year, month, day))\n",
    "            \n",
    "            location = location + 1\n",
    "            \n",
    "frames = [dfNFLDataForGames, dfGameTimes]\n",
    "dfTotalData = pd.concat(frames, axis=1, join='inner')\n",
    "            \n",
    "print('Complete')          "
   ]
  },
  {
   "cell_type": "markdown",
   "metadata": {},
   "source": [
    "## Clean Weather Data\n",
    "We removed all -9999 and replace them with NaN. Before joining with the additional data to complete our data set"
   ]
  },
  {
   "cell_type": "code",
   "execution_count": 68,
   "metadata": {},
   "outputs": [
    {
     "data": {
      "text/html": [
       "<div>\n",
       "<style>\n",
       "    .dataframe thead tr:only-child th {\n",
       "        text-align: right;\n",
       "    }\n",
       "\n",
       "    .dataframe thead th {\n",
       "        text-align: left;\n",
       "    }\n",
       "\n",
       "    .dataframe tbody tr th {\n",
       "        vertical-align: top;\n",
       "    }\n",
       "</style>\n",
       "<table border=\"1\" class=\"dataframe\">\n",
       "  <thead>\n",
       "    <tr style=\"text-align: right;\">\n",
       "      <th></th>\n",
       "      <th>GameID</th>\n",
       "      <th>HomeTeam</th>\n",
       "      <th>AwayTeam</th>\n",
       "      <th>GameWinner</th>\n",
       "      <th>GameLoser</th>\n",
       "      <th>ScoreHome</th>\n",
       "      <th>ScoreAway</th>\n",
       "      <th>HomeFirstDowns</th>\n",
       "      <th>HomePassingYards</th>\n",
       "      <th>HomePenaltyCnt</th>\n",
       "      <th>...</th>\n",
       "      <th>WindSpeed</th>\n",
       "      <th>WindDir</th>\n",
       "      <th>Pressure</th>\n",
       "      <th>Fog</th>\n",
       "      <th>Precipitation</th>\n",
       "      <th>Condition</th>\n",
       "      <th>Rain</th>\n",
       "      <th>Snow</th>\n",
       "      <th>WindChill</th>\n",
       "      <th>HeatIndex</th>\n",
       "    </tr>\n",
       "  </thead>\n",
       "  <tbody>\n",
       "    <tr>\n",
       "      <th>0</th>\n",
       "      <td>1</td>\n",
       "      <td>PIT</td>\n",
       "      <td>TEN</td>\n",
       "      <td>PIT</td>\n",
       "      <td>TEN</td>\n",
       "      <td>13</td>\n",
       "      <td>10</td>\n",
       "      <td>19</td>\n",
       "      <td>321</td>\n",
       "      <td>6</td>\n",
       "      <td>...</td>\n",
       "      <td>6.9</td>\n",
       "      <td>ENE</td>\n",
       "      <td>30.28</td>\n",
       "      <td>0.0</td>\n",
       "      <td>NaN</td>\n",
       "      <td>Clear</td>\n",
       "      <td>0.0</td>\n",
       "      <td>0.0</td>\n",
       "      <td>NaN</td>\n",
       "      <td>NaN</td>\n",
       "    </tr>\n",
       "    <tr>\n",
       "      <th>1</th>\n",
       "      <td>2</td>\n",
       "      <td>ATL</td>\n",
       "      <td>MIA</td>\n",
       "      <td>ATL</td>\n",
       "      <td>MIA</td>\n",
       "      <td>19</td>\n",
       "      <td>7</td>\n",
       "      <td>19</td>\n",
       "      <td>213</td>\n",
       "      <td>4</td>\n",
       "      <td>...</td>\n",
       "      <td>4.6</td>\n",
       "      <td>East</td>\n",
       "      <td>29.99</td>\n",
       "      <td>0.0</td>\n",
       "      <td>NaN</td>\n",
       "      <td>Clear</td>\n",
       "      <td>0.0</td>\n",
       "      <td>0.0</td>\n",
       "      <td>NaN</td>\n",
       "      <td>NaN</td>\n",
       "    </tr>\n",
       "    <tr>\n",
       "      <th>2</th>\n",
       "      <td>3</td>\n",
       "      <td>BAL</td>\n",
       "      <td>KC</td>\n",
       "      <td>BAL</td>\n",
       "      <td>KC</td>\n",
       "      <td>38</td>\n",
       "      <td>24</td>\n",
       "      <td>32</td>\n",
       "      <td>303</td>\n",
       "      <td>8</td>\n",
       "      <td>...</td>\n",
       "      <td>NaN</td>\n",
       "      <td>North</td>\n",
       "      <td>29.95</td>\n",
       "      <td>0.0</td>\n",
       "      <td>NaN</td>\n",
       "      <td>Unknown</td>\n",
       "      <td>0.0</td>\n",
       "      <td>0.0</td>\n",
       "      <td>NaN</td>\n",
       "      <td>NaN</td>\n",
       "    </tr>\n",
       "    <tr>\n",
       "      <th>3</th>\n",
       "      <td>4</td>\n",
       "      <td>CAR</td>\n",
       "      <td>PHI</td>\n",
       "      <td>PHI</td>\n",
       "      <td>CAR</td>\n",
       "      <td>10</td>\n",
       "      <td>38</td>\n",
       "      <td>14</td>\n",
       "      <td>83</td>\n",
       "      <td>5</td>\n",
       "      <td>...</td>\n",
       "      <td>4.6</td>\n",
       "      <td>NNE</td>\n",
       "      <td>30.00</td>\n",
       "      <td>0.0</td>\n",
       "      <td>NaN</td>\n",
       "      <td>Mostly Cloudy</td>\n",
       "      <td>0.0</td>\n",
       "      <td>0.0</td>\n",
       "      <td>NaN</td>\n",
       "      <td>81.0</td>\n",
       "    </tr>\n",
       "    <tr>\n",
       "      <th>4</th>\n",
       "      <td>5</td>\n",
       "      <td>CIN</td>\n",
       "      <td>DEN</td>\n",
       "      <td>DEN</td>\n",
       "      <td>CIN</td>\n",
       "      <td>7</td>\n",
       "      <td>12</td>\n",
       "      <td>16</td>\n",
       "      <td>221</td>\n",
       "      <td>4</td>\n",
       "      <td>...</td>\n",
       "      <td>5.8</td>\n",
       "      <td>ENE</td>\n",
       "      <td>30.12</td>\n",
       "      <td>0.0</td>\n",
       "      <td>NaN</td>\n",
       "      <td>Clear</td>\n",
       "      <td>0.0</td>\n",
       "      <td>0.0</td>\n",
       "      <td>NaN</td>\n",
       "      <td>NaN</td>\n",
       "    </tr>\n",
       "  </tbody>\n",
       "</table>\n",
       "<p>5 rows × 63 columns</p>\n",
       "</div>"
      ],
      "text/plain": [
       "  GameID HomeTeam AwayTeam GameWinner GameLoser ScoreHome ScoreAway  \\\n",
       "0      1      PIT      TEN        PIT       TEN        13        10   \n",
       "1      2      ATL      MIA        ATL       MIA        19         7   \n",
       "2      3      BAL       KC        BAL        KC        38        24   \n",
       "3      4      CAR      PHI        PHI       CAR        10        38   \n",
       "4      5      CIN      DEN        DEN       CIN         7        12   \n",
       "\n",
       "  HomeFirstDowns HomePassingYards HomePenaltyCnt    ...    WindSpeed WindDir  \\\n",
       "0             19              321              6    ...          6.9     ENE   \n",
       "1             19              213              4    ...          4.6    East   \n",
       "2             32              303              8    ...          NaN   North   \n",
       "3             14               83              5    ...          4.6     NNE   \n",
       "4             16              221              4    ...          5.8     ENE   \n",
       "\n",
       "  Pressure  Fog Precipitation      Condition Rain Snow WindChill HeatIndex  \n",
       "0    30.28  0.0           NaN          Clear  0.0  0.0       NaN       NaN  \n",
       "1    29.99  0.0           NaN          Clear  0.0  0.0       NaN       NaN  \n",
       "2    29.95  0.0           NaN        Unknown  0.0  0.0       NaN       NaN  \n",
       "3    30.00  0.0           NaN  Mostly Cloudy  0.0  0.0       NaN      81.0  \n",
       "4    30.12  0.0           NaN          Clear  0.0  0.0       NaN       NaN  \n",
       "\n",
       "[5 rows x 63 columns]"
      ]
     },
     "execution_count": 68,
     "metadata": {},
     "output_type": "execute_result"
    }
   ],
   "source": [
    "#remove duplicate columns before Join\n",
    "dfTotalData = dfTotalData.T.drop_duplicates().T\n",
    "dfFinal = pd.DataFrame.merge(dfTotalData, dfWeatherInfo, on='GameID', how='left')\n",
    "#Remove duplicate columns from Merge\n",
    "dfFinal = dfFinal.T.drop_duplicates().T\n",
    "\n",
    "#Update -999 with NaN \n",
    "updateColumns = pd.DataFrame(['Precipitation' , 'DewPoint' , 'Visiability' , 'Humidity' , 'WindSpeed' \n",
    "                              , 'WindDir' , 'Pressure' , 'Fog' , 'Precipitation' , 'Condition' , 'Rain' \n",
    "                              , 'Snow' , 'WindChill' , 'HeatIndex'])\n",
    "\n",
    "\n",
    "for column in updateColumns.values:\n",
    "    dataColumn = column[-1]\n",
    "    dfFinal[dataColumn] = dfFinal[dataColumn].replace(-9999, np.nan)\n",
    "    dfFinal[dataColumn] = dfFinal[dataColumn].replace(-999, np.nan)\n",
    "    \n",
    "dfFinal.head()"
   ]
  },
  {
   "cell_type": "markdown",
   "metadata": {},
   "source": [
    "# Create Data File with All Columns"
   ]
  },
  {
   "cell_type": "code",
   "execution_count": 69,
   "metadata": {
    "collapsed": true
   },
   "outputs": [],
   "source": [
    "dfFinal.to_csv(directory + 'GameData.csv', sep='|', encoding='utf-8', index=False)  "
   ]
  },
  {
   "cell_type": "markdown",
   "metadata": {},
   "source": [
    "# Get Weather Data for API\n",
    "\n",
    "### Do not run this as it techincally violates the weather underground API Rules :-). "
   ]
  },
  {
   "cell_type": "code",
   "execution_count": 55,
   "metadata": {
    "collapsed": true,
    "scrolled": true
   },
   "outputs": [],
   "source": [
    "#Import Team Info\n",
    "#dfTeamInfo = pd.read_csv(directory + 'TeamInfo.csv', sep=',')\n",
    "\n",
    "#dfWeatherData = dfTotalData[['GameID','Date','NumericDate','TimeOfDay', 'HomeTeam']]\n",
    "\n",
    "#Did this to remove Duplicate GameID values\n",
    "#dfWeatherData = dfWeatherData.T.drop_duplicates().T\n",
    "\n",
    "#dfTeamInfo = dfTeamInfo.rename(columns={'Abbrivation':'HomeTeam'})\n",
    "\n",
    "#dfTeamLoc = pd.merge(dfWeatherData, dfTeamInfo, on='HomeTeam')\n",
    "\n",
    "#Create Hour of Game\n",
    "#dfTeamLoc['Hour'] = dfTeamLoc[['TimeOfDay']]\n",
    "\n",
    "#i = 0\n",
    "#for time in dfTeamLoc[['TimeOfDay']].values:\n",
    "#    time = time[-1]\n",
    "#    hour = int(time[:1]) + 12\n",
    "#    dfTeamLoc.loc[i, 'Hour'] = hour\n",
    "#    i = i + 1"
   ]
  },
  {
   "cell_type": "code",
   "execution_count": 57,
   "metadata": {
    "collapsed": true
   },
   "outputs": [],
   "source": [
    "#import time\n",
    "\n",
    "#dfWeatherAPIData = pd.DataFrame(columns=('GameID', 'Temp', 'DewPoint', 'Visiability', 'Humidity', 'WindSpeed','WindDir'\n",
    "#                                     , 'Pressure', 'Fog', 'Precipitation', 'Condition', 'Rain', 'Snow', 'WindChill'\n",
    "#                                     , 'HeatIndex'))\n",
    "\n",
    "##Create Api String\n",
    "#apiStart = 'http://api.wunderground.com/api'\n",
    "#apiKey = 'd929fd774ceb70f4'\n",
    "#i = 0\n",
    "#for data in dfTeamLoc.values:\n",
    "#    gameHour = data[8]\n",
    "#    gameCity = data[5].replace(' ', '_')\n",
    "#    gameState = data[6]\n",
    "#    gameTime = data[2]\n",
    "#    GameId = data[0]\n",
    "#    try:\n",
    "#        #Create API Request\n",
    "#        apiRequest = '{}/{}/history_{}/q/{}/{}.json'.format(apiStart, apiKey, gameTime, gameState,gameCity)\n",
    "#        response = requests.get(apiRequest)\n",
    "#        if(response.status_code == 200):\n",
    "#           jsonResponse = response.json()\n",
    "#            observations = jsonResponse['history']['observations']\n",
    "#            for obs in observations:\n",
    "#                jsonHour = obs['date']['hour']\n",
    "#                if(int(jsonHour) == int(gameHour)):\n",
    "#                    gameTemp = obs['tempi']\n",
    "#                    gameDewPt = obs['dewpti']\n",
    "#                    gameVisibility = obs['visi']\n",
    "#                    gameHumidity = obs['hum']\n",
    "#                    gameWindSpeed = obs['wspdi']\n",
    "#                    gameWindDir = obs['wdire']\n",
    "#                    gamePressure = obs['pressurei']\n",
    "#                    gameFog = obs['fog']\n",
    "#                    gameprecip = obs['precipi']\n",
    "#                    gameConditions = obs['conds']\n",
    "#                    gameRain = obs['rain']\n",
    "#                    gameSnow = obs['snow']\n",
    "#                    gameWindChill = obs['windchilli']\n",
    "#                    gameHeatIndex = obs['heatindexi']\n",
    "\n",
    "#                    dfWeatherAPIData.loc[i] = (GameId, gameTemp, gameDewPt, gameVisibility, gameHumidity, gameWindSpeed, gameWindDir\n",
    "#                                           , gamePressure, gameFog, gameprecip, gameConditions, gameRain, gameSnow\n",
    "#                                           , gameWindChill, gameHeatIndex)\n",
    "#        time.sleep(7)\n",
    "#        i = i + 1\n",
    "        \n",
    "#    except:\n",
    "#        print GameId\n",
    "#        time.sleep(7)"
   ]
  },
  {
   "cell_type": "code",
   "execution_count": 58,
   "metadata": {
    "collapsed": true
   },
   "outputs": [],
   "source": [
    "#dfWeatherAPIData.to_csv(directory + 'APIDataFinal.csv', sep='|', encoding='utf-8', index=False) "
   ]
  }
 ],
 "metadata": {
  "kernelspec": {
   "display_name": "Python 2",
   "language": "python",
   "name": "python2"
  },
  "language_info": {
   "codemirror_mode": {
    "name": "ipython",
    "version": 2
   },
   "file_extension": ".py",
   "mimetype": "text/x-python",
   "name": "python",
   "nbconvert_exporter": "python",
   "pygments_lexer": "ipython2",
   "version": "2.7.14"
  }
 },
 "nbformat": 4,
 "nbformat_minor": 2
}
